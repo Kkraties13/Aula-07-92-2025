{
 "cells": [
  {
   "cell_type": "code",
   "execution_count": null,
   "metadata": {},
   "outputs": [],
   "source": [
    "# ESCREVA UM PROGRAMA QUE LEIA DOIS NÚMEROS INTEIROS E EXIBA A SOMA ENTRE ELES.\n",
    "\n",
    "val1 = int(input(\"Digite um Número\"))\n",
    "val2 = int(input(\"Digite outro Número\"))\n"
   ]
  },
  {
   "cell_type": "code",
   "execution_count": 1,
   "metadata": {},
   "outputs": [
    {
     "name": "stdout",
     "output_type": "stream",
     "text": [
      "Você é maior de idade\n"
     ]
    }
   ],
   "source": [
    "# LEIA A IDADE DE UMA PESSOA E INFORME SE ELA É MAIOR DE IDADE OU NÃO.\n",
    "\n",
    "idade = int(input(\"Digite a sua idade\"))\n",
    "\n",
    "if idade < 18:\n",
    "\n",
    "    print(\"Você é menor de idade\")\n",
    "\n",
    "else:\n",
    "\n",
    "    print(\"Você é maior de idade\")"
   ]
  },
  {
   "cell_type": "code",
   "execution_count": 2,
   "metadata": {},
   "outputs": [
    {
     "name": "stdout",
     "output_type": "stream",
     "text": [
      "15 X 1 = 15\n",
      "15 X 2 = 30\n",
      "15 X 3 = 45\n",
      "15 X 4 = 60\n",
      "15 X 5 = 75\n",
      "15 X 6 = 90\n",
      "15 X 7 = 105\n",
      "15 X 8 = 120\n",
      "15 X 9 = 135\n",
      "15 X 10 = 150\n"
     ]
    }
   ],
   "source": [
    "# DESENVOLVA UM PROGRAMA QUE PEÇA AO USUÁRIO PARA DIGITAR UM NÚMERO E EXIBA A TABUADA DESSE NÚMERO DE 1\n",
    "# A 10.\n",
    "\n",
    "numero = int(input(\"Digite um número\"))\n",
    "\n",
    "for mult in range(1,11):\n",
    "    print(f\"{numero} X {mult} = {mult * numero}\")"
   ]
  },
  {
   "cell_type": "code",
   "execution_count": 3,
   "metadata": {},
   "outputs": [
    {
     "name": "stdout",
     "output_type": "stream",
     "text": [
      "O maior valor digitado é 100\n"
     ]
    }
   ],
   "source": [
    "# FAÇA UM ALGORITMO QUE LEIA TRÊS NÚMEROS E EXIBA O MAIOR ENTRE ELES.\n",
    "\n",
    "valor_maior = 0\n",
    "\n",
    "for _ in range(3):\n",
    "    \n",
    "    valor_inserir = int(input(\"Digite um número\"))\n",
    "    \n",
    "    if valor_inserir > valor_maior:\n",
    "        \n",
    "        valor_maior = valor_inserir\n",
    "        \n",
    "print(f\"O maior valor digitado é {valor_maior}\")"
   ]
  },
  {
   "cell_type": "code",
   "execution_count": 6,
   "metadata": {},
   "outputs": [
    {
     "name": "stdout",
     "output_type": "stream",
     "text": [
      "0\n",
      "2\n",
      "4\n",
      "6\n",
      "8\n",
      "10\n",
      "12\n",
      "14\n",
      "16\n",
      "18\n",
      "20\n",
      "22\n",
      "24\n",
      "26\n",
      "28\n",
      "30\n",
      "32\n",
      "34\n",
      "36\n",
      "38\n",
      "40\n",
      "42\n",
      "44\n",
      "46\n",
      "48\n",
      "50\n",
      "52\n",
      "54\n",
      "56\n",
      "58\n",
      "60\n",
      "62\n",
      "64\n",
      "66\n",
      "68\n",
      "70\n",
      "72\n",
      "74\n",
      "76\n",
      "78\n",
      "80\n"
     ]
    }
   ],
   "source": [
    "# LEIA UM NÚMERO E EXIBA TODOS OS NÚMEROS PARES DE 0 ATÉ ESSE NÚMERO.\n",
    "\n",
    "insira_numero = int(input(\"Digite um número\"))\n",
    "\n",
    "for par in range(0, insira_numero + 1, 2):\n",
    "    \n",
    "    print(par)"
   ]
  },
  {
   "cell_type": "code",
   "execution_count": 8,
   "metadata": {},
   "outputs": [
    {
     "name": "stdout",
     "output_type": "stream",
     "text": [
      "O valor de 822.0°C em Fahrenheit é 1511.6000000000001\n"
     ]
    }
   ],
   "source": [
    "# CRIE UM PROGRAMA QUE CONVERTA UMA TEMPERATURA EM CELSIUS PARA FAHRENHEIT.\n",
    "\n",
    "celcius = float(input(\"Digite uma temperatura\"))\n",
    "\n",
    "print(f\"O valor de {celcius}°C em Fahrenheit é {(celcius * 1.8) + 32}\")"
   ]
  },
  {
   "cell_type": "code",
   "execution_count": null,
   "metadata": {},
   "outputs": [],
   "source": [
    "# DESENVOLVA UM ALGORITMO QUE SIMULE UM CAIXA ELETRÔNICO. O USUÁRIO INFORMA O VALOR A SER SACADO E O\n",
    "# PROGRAMA INFORMA QUANTAS CÉDULAS DE R$50, R$20, R$10 E R$5 SERÃO ENTREGUES\n",
    "\n",
    "valor_saque = int(input(\"Informe o valor a ser sacado: R$\"))\n",
    "\n",
    "\n",
    "\n",
    "cedulas = [50, 20, 10, 5]\n",
    "\n",
    "\n",
    "quantidade_cedulas = {50: 0, 20: 0, 10: 0, 5: 0}\n",
    "\n",
    "for cedula in cedulas:\n",
    "    quantidade_cedulas[cedula] = valor_saque // cedula\n",
    "    valor = valor % cedula  \n",
    "\n",
    "print(\"Cédulas entregues:\")\n",
    "for cedula in cedulas:\n",
    "    if quantidade_cedulas[cedula] > 0:\n",
    "        print(f\"R${cedula}: {quantidade_cedulas[cedula]} cédulas\")\n",
    "\n",
    "if valor > 0:\n",
    "    print(\"Não é possível sacar exatamente esse valor com as cédulas disponíveis.\")\n",
    "else:\n",
    "    print(\"Saque realizado com sucesso.\")\n"
   ]
  },
  {
   "cell_type": "code",
   "execution_count": 11,
   "metadata": {},
   "outputs": [
    {
     "name": "stdout",
     "output_type": "stream",
     "text": [
      "O fatorial de 52 é 80658175170943878571660636856403766975289505440883277824000000000000\n"
     ]
    }
   ],
   "source": [
    "# ESCREVA UM PROGRAMA QUE CALCULE O FATORIAL DE UM NÚMERO.\n",
    "\n",
    "valor_fatorial = int(input(\"Digite um número\"))\n",
    "\n",
    "fatorial = valor_fatorial\n",
    "\n",
    "for mult_fatorial in range(1, valor_fatorial):\n",
    "    \n",
    "    fatorial *= mult_fatorial\n",
    "    \n",
    "print(f\"O fatorial de {valor_fatorial} é {fatorial}\")"
   ]
  },
  {
   "cell_type": "code",
   "execution_count": 24,
   "metadata": {},
   "outputs": [
    {
     "name": "stdout",
     "output_type": "stream",
     "text": [
      "['s', 'o', 'l', 'r', 'a', 'c']\n"
     ]
    }
   ],
   "source": [
    "nome = list(input(\"Digite um nome\"))\n",
    "\n",
    "nome.reverse()\n",
    "\n",
    "print(nome)\n",
    "\n"
   ]
  },
  {
   "cell_type": "code",
   "execution_count": 27,
   "metadata": {},
   "outputs": [
    {
     "name": "stdout",
     "output_type": "stream",
     "text": [
      "Esse número é primo\n"
     ]
    }
   ],
   "source": [
    "# DESENVOLVA UM ALGORITMO QUE PEÇA UM NÚMERO AO USUÁRIO E VERIFIQUE SE ELE É PRIMO.\n",
    "\n",
    "num_primo = int(input(\"Digite um número\"))\n",
    "\n",
    "conta_div = 0\n",
    "\n",
    "for testa_primo in range(1, num_primo + 1):\n",
    "    \n",
    "    if num_primo % testa_primo == 0:\n",
    "        \n",
    "        conta_div+=1\n",
    "        \n",
    "if conta_div == 2:\n",
    "    \n",
    "    print(\"Esse número é primo\")\n",
    "\n",
    "else:\n",
    "    \n",
    "    print(\"Esse número não é primo\")"
   ]
  },
  {
   "cell_type": "code",
   "execution_count": 37,
   "metadata": {},
   "outputs": [
    {
     "name": "stdout",
     "output_type": "stream",
     "text": [
      "2\n"
     ]
    }
   ],
   "source": [
    "# LEIA UMA FRASE E CONTE QUANTAS VOGAIS ELA POSSUI.\n",
    "\n",
    "palavra = list(input(\"Digite uma palavra\").upper())\n",
    "\n",
    "tamanho_palavra = len(palavra)\n",
    "\n",
    "vogais = [\"A\", \"E\", \"I\", \"O\", \"U\"]\n",
    "\n",
    "qtde_vogal = 0\n",
    "\n",
    "for pos_palavra in range(tamanho_palavra):\n",
    "    \n",
    "    for vogal in range(5):\n",
    "        \n",
    "        if palavra[pos_palavra] == vogais[vogal]:\n",
    "            \n",
    "            qtde_vogal += 1\n",
    "\n",
    "print(qtde_vogal)"
   ]
  }
 ],
 "metadata": {
  "kernelspec": {
   "display_name": "Python 3",
   "language": "python",
   "name": "python3"
  },
  "language_info": {
   "codemirror_mode": {
    "name": "ipython",
    "version": 3
   },
   "file_extension": ".py",
   "mimetype": "text/x-python",
   "name": "python",
   "nbconvert_exporter": "python",
   "pygments_lexer": "ipython3",
   "version": "3.11.4"
  },
  "orig_nbformat": 4
 },
 "nbformat": 4,
 "nbformat_minor": 2
}
